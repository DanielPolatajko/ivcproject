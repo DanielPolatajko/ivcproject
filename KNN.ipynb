{
 "cells": [
  {
   "cell_type": "code",
   "execution_count": 1,
   "metadata": {},
   "outputs": [],
   "source": [
    "import os\n",
    "import numpy as np\n",
    "from PIL import Image\n",
    "from sklearn.cluster import KMeans\n",
    "from scipy.spatial.distance import cdist\n",
    "from scipy.signal import decimate\n"
   ]
  },
  {
   "cell_type": "code",
   "execution_count": 9,
   "metadata": {},
   "outputs": [],
   "source": [
    "data_path = os.getcwd() + \"\\\\data\\\\DAVIS\\\\JPEGImages\\\\480p\\\\\"\n",
    "anno_path = os.getcwd() + \"\\\\data\\\\DAVIS\\\\Annotations\\\\480p\\\\\""
   ]
  },
  {
   "cell_type": "code",
   "execution_count": 3,
   "metadata": {},
   "outputs": [
    {
     "ename": "SyntaxError",
     "evalue": "invalid syntax (<ipython-input-3-400da00c84da>, line 2)",
     "output_type": "error",
     "traceback": [
      "\u001b[1;36m  File \u001b[1;32m\"<ipython-input-3-400da00c84da>\"\u001b[1;36m, line \u001b[1;32m2\u001b[0m\n\u001b[1;33m    if path.find(\"jpg\")\u001b[0m\n\u001b[1;37m                       ^\u001b[0m\n\u001b[1;31mSyntaxError\u001b[0m\u001b[1;31m:\u001b[0m invalid syntax\n"
     ]
    }
   ],
   "source": [
    "for path in os.walk():\n",
    "    if path.find(\"jpg\")"
   ]
  },
  {
   "cell_type": "code",
   "execution_count": 10,
   "metadata": {},
   "outputs": [],
   "source": [
    "bear_path = data_path + \"bear\\\\\"\n",
    "abear_path = anno_path + \"bear\\\\\""
   ]
  },
  {
   "cell_type": "code",
   "execution_count": 42,
   "metadata": {},
   "outputs": [],
   "source": [
    "bear = Image.open(bear_path+\"00001.jpg\").convert(mode=\"RGBA\")\n",
    "abear = Image.open(abear_path+\"00001.png\").convert(mode=\"L\")"
   ]
  },
  {
   "cell_type": "code",
   "execution_count": 12,
   "metadata": {},
   "outputs": [
    {
     "data": {
      "image/png": "[encoded data removed]",
      "text/plain": [
       "<PIL.Image.Image image mode=L size=854x480 at 0x27E200B3588>"
      ]
     },
     "execution_count": 12,
     "metadata": {},
     "output_type": "execute_result"
    }
   ],
   "source": [
    "abear"
   ]
  },
  {
   "cell_type": "code",
   "execution_count": 13,
   "metadata": {},
   "outputs": [
    {
     "data": {
      "text/plain": [
       "(480, 854, 3)"
      ]
     },
     "execution_count": 13,
     "metadata": {},
     "output_type": "execute_result"
    }
   ],
   "source": [
    "np.asarray(bear).shape"
   ]
  },
  {
   "cell_type": "code",
   "execution_count": 14,
   "metadata": {},
   "outputs": [],
   "source": [
    "temp = np.zeros((5, 480*854))"
   ]
  },
  {
   "cell_type": "code",
   "execution_count": 15,
   "metadata": {},
   "outputs": [],
   "source": [
    "count = 0\n",
    "beararr = np.asarray(bear)\n",
    "for i in range(480):\n",
    "    for j in range(854):\n",
    "        temp[:,count] = np.array([i,j,beararr[i,j][0], beararr[i,j][1], beararr[i,j][2]])\n",
    "        count +=1\n",
    "        "
   ]
  },
  {
   "cell_type": "code",
   "execution_count": 16,
   "metadata": {},
   "outputs": [],
   "source": [
    "def xyrgb(img_arr):\n",
    "    count = 0\n",
    "    temp = np.zeros((5,img_arr.shape[0]*img_arr.shape[1]))\n",
    "    for i in range(img_arr.shape[0]):\n",
    "        for j in range(img_arr.shape[1]):\n",
    "            temp[:,count] = np.array([i,j,img_arr[i,j][0], img_arr[i,j][1], img_arr[i,j][2]])\n",
    "            count +=1\n",
    "            \n",
    "    return temp"
   ]
  },
  {
   "cell_type": "code",
   "execution_count": 17,
   "metadata": {},
   "outputs": [],
   "source": [
    "def normalise(xyrgb):\n",
    "    inlessmeans = xyrgb- np.mean(xyrgb, axis=0)\n",
    "    stds = np.std(xyrgb, axis=0)\n",
    "    out = inlessmeans / stds\n",
    "    return out"
   ]
  },
  {
   "cell_type": "code",
   "execution_count": 22,
   "metadata": {},
   "outputs": [],
   "source": [
    "newbeararr = down_sample(beararr,4)\n",
    "newbear = xyrgb(newbeararr)"
   ]
  },
  {
   "cell_type": "code",
   "execution_count": 23,
   "metadata": {},
   "outputs": [
    {
     "ename": "KeyboardInterrupt",
     "evalue": "",
     "output_type": "error",
     "traceback": [
      "\u001b[1;31m---------------------------------------------------------------------------\u001b[0m",
      "\u001b[1;31mKeyboardInterrupt\u001b[0m                         Traceback (most recent call last)",
      "\u001b[1;32m<ipython-input-23-c973b56e191f>\u001b[0m in \u001b[0;36m<module>\u001b[1;34m\u001b[0m\n\u001b[1;32m----> 1\u001b[1;33m \u001b[0md\u001b[0m \u001b[1;33m=\u001b[0m \u001b[0mcdist\u001b[0m\u001b[1;33m(\u001b[0m\u001b[0mnewbear\u001b[0m\u001b[1;33m.\u001b[0m\u001b[0mT\u001b[0m\u001b[1;33m,\u001b[0m\u001b[0mnewbear\u001b[0m\u001b[1;33m.\u001b[0m\u001b[0mT\u001b[0m\u001b[1;33m)\u001b[0m\u001b[1;33m\u001b[0m\u001b[1;33m\u001b[0m\u001b[0m\n\u001b[0m",
      "\u001b[1;32m~\\Anaconda3\\lib\\site-packages\\scipy\\spatial\\distance.py\u001b[0m in \u001b[0;36mcdist\u001b[1;34m(XA, XB, metric, *args, **kwargs)\u001b[0m\n\u001b[0;32m   2759\u001b[0m             cdist_fn = getattr(_distance_wrap,\n\u001b[0;32m   2760\u001b[0m                                \"cdist_%s_%s_wrap\" % (metric_name, typ))\n\u001b[1;32m-> 2761\u001b[1;33m             \u001b[0mcdist_fn\u001b[0m\u001b[1;33m(\u001b[0m\u001b[0mXA\u001b[0m\u001b[1;33m,\u001b[0m \u001b[0mXB\u001b[0m\u001b[1;33m,\u001b[0m \u001b[0mdm\u001b[0m\u001b[1;33m,\u001b[0m \u001b[1;33m**\u001b[0m\u001b[0mkwargs\u001b[0m\u001b[1;33m)\u001b[0m\u001b[1;33m\u001b[0m\u001b[1;33m\u001b[0m\u001b[0m\n\u001b[0m\u001b[0;32m   2762\u001b[0m             \u001b[1;32mreturn\u001b[0m \u001b[0mdm\u001b[0m\u001b[1;33m\u001b[0m\u001b[1;33m\u001b[0m\u001b[0m\n\u001b[0;32m   2763\u001b[0m \u001b[1;33m\u001b[0m\u001b[0m\n",
      "\u001b[1;31mKeyboardInterrupt\u001b[0m: "
     ]
    }
   ],
   "source": [
    "\n"
   ]
  },
  {
   "cell_type": "code",
   "execution_count": 24,
   "metadata": {},
   "outputs": [
    {
     "data": {
      "text/plain": [
       "(480, 854, 3)"
      ]
     },
     "execution_count": 24,
     "metadata": {},
     "output_type": "execute_result"
    }
   ],
   "source": [
    "thing = beararr\n",
    "thing.shape"
   ]
  },
  {
   "cell_type": "code",
   "execution_count": 25,
   "metadata": {},
   "outputs": [],
   "source": [
    "thing2 = xyrgb(thing)"
   ]
  },
  {
   "cell_type": "code",
   "execution_count": 103,
   "metadata": {},
   "outputs": [
    {
     "name": "stdout",
     "output_type": "stream",
     "text": [
      "[[-1.21253077 -1.2356314  -1.25177762 ...  0.53224716  0.15977955\n",
      "   0.31580715]\n",
      " [-1.21253077 -1.20328503 -1.18658087 ...  1.73241234  1.88762822\n",
      "   1.83039243]\n",
      " [ 1.04718566  0.96392188  0.96491191 ... -0.7722802  -0.67627625\n",
      "  -0.68317464]\n",
      " [ 0.77161049  0.80219002  0.80192004 ... -0.69400856 -0.60196018\n",
      "  -0.65094942]\n",
      " [ 0.60626538  0.67280453  0.67152654 ... -0.79837075 -0.76917134\n",
      "  -0.81207552]]\n"
     ]
    }
   ],
   "source": [
    "n = normalise(newbear)\n",
    "print(n)"
   ]
  },
  {
   "cell_type": "code",
   "execution_count": 21,
   "metadata": {},
   "outputs": [],
   "source": [
    "def down_sample(img,n):\n",
    "    img_d=decimate(img, n, n=2, ftype='iir',axis=0, zero_phase=True)\n",
    "    img_d=decimate(img_d, n, n=2, ftype='iir',axis=1, zero_phase=True)\n",
    "    return img_d.astype(\"uint8\") "
   ]
  },
  {
   "cell_type": "code",
   "execution_count": 26,
   "metadata": {},
   "outputs": [],
   "source": [
    "clusters = 10\n",
    "normbear = normalise(newbear)\n",
    "thing3 = normalise(thing2)"
   ]
  },
  {
   "cell_type": "code",
   "execution_count": 27,
   "metadata": {},
   "outputs": [],
   "source": [
    "km = KMeans(clusters)"
   ]
  },
  {
   "cell_type": "code",
   "execution_count": 28,
   "metadata": {},
   "outputs": [
    {
     "data": {
      "text/plain": [
       "KMeans(algorithm='auto', copy_x=True, init='k-means++', max_iter=300,\n",
       "       n_clusters=10, n_init=10, n_jobs=None, precompute_distances='auto',\n",
       "       random_state=None, tol=0.0001, verbose=0)"
      ]
     },
     "execution_count": 28,
     "metadata": {},
     "output_type": "execute_result"
    }
   ],
   "source": [
    "km.fit(thing2.T)"
   ]
  },
  {
   "cell_type": "code",
   "execution_count": 29,
   "metadata": {},
   "outputs": [],
   "source": [
    "labels = km.labels_.reshape((thing.shape[0], thing.shape[1]))"
   ]
  },
  {
   "cell_type": "code",
   "execution_count": 30,
   "metadata": {},
   "outputs": [],
   "source": [
    "def colourlist(n):\n",
    "    out = []\n",
    "    r = np.random.randint(0,255)\n",
    "    g = np.random.randint(0,255)\n",
    "    b = np.random.randint(0,255)\n",
    "    div = 256 / n\n",
    "    for i in range(1,n+1):\n",
    "        colour = np.array([(r+i*div)%256,(g+i*div)%256,(b+i*div)%256 ])\n",
    "        out.append(colour)\n",
    "        \n",
    "    return out\n",
    "        \n",
    "    "
   ]
  },
  {
   "cell_type": "code",
   "execution_count": 48,
   "metadata": {},
   "outputs": [],
   "source": [
    "out = np.zeros(thing.shape)\n",
    "colours = colourlist(clusters)\n",
    "\n",
    "for i in range(thing.shape[0]):\n",
    "    for j in range(thing.shape[1]):\n",
    "        colour = colours[labels[i,j]]\n",
    "        out[i,j] = colour\n",
    "        "
   ]
  },
  {
   "cell_type": "code",
   "execution_count": 49,
   "metadata": {},
   "outputs": [
    {
     "data": {
      "image/png": "[encoded data removed]",
      "text/plain": [
       "<PIL.Image.Image image mode=RGB size=854x480 at 0x27E200C4FD0>"
      ]
     },
     "execution_count": 49,
     "metadata": {},
     "output_type": "execute_result"
    }
   ],
   "source": [
    "Image.fromarray(out.astype(\"uint8\"))"
   ]
  },
  {
   "cell_type": "code",
   "execution_count": 43,
   "metadata": {},
   "outputs": [],
   "source": [
    "#\n"
   ]
  },
  {
   "cell_type": "code",
   "execution_count": 50,
   "metadata": {},
   "outputs": [],
   "source": [
    "kclusts = Image.fromarray(out.astype(\"uint8\"))\n"
   ]
  },
  {
   "cell_type": "code",
   "execution_count": 51,
   "metadata": {},
   "outputs": [],
   "source": [
    "thing10 = kclusts.convert(\"RGBA\")\n",
    "thing10.putalpha(100)"
   ]
  },
  {
   "cell_type": "code",
   "execution_count": 54,
   "metadata": {},
   "outputs": [],
   "source": [
    "bear = Image.open(bear_path+\"00001.jpg\").convert(mode=\"RGBA\")"
   ]
  },
  {
   "cell_type": "code",
   "execution_count": 55,
   "metadata": {},
   "outputs": [],
   "source": [
    "bear.paste(thing10, (0,0), thing10)"
   ]
  },
  {
   "cell_type": "code",
   "execution_count": 57,
   "metadata": {},
   "outputs": [],
   "source": [
    "bear.save(\"kmeansbearall.png\")"
   ]
  },
  {
   "cell_type": "code",
   "execution_count": 303,
   "metadata": {},
   "outputs": [],
   "source": [
    "js = []\n",
    "for j in range(clusters):\n",
    "    a = np.where(labels==j,1,0)\n",
    "    js.append(jaccard_index(a,ab2))"
   ]
  },
  {
   "cell_type": "code",
   "execution_count": 304,
   "metadata": {},
   "outputs": [
    {
     "data": {
      "text/plain": [
       "[0.001850754338355324,\n",
       " 0.0,\n",
       " 0.13581989746637937,\n",
       " 0.0,\n",
       " 0.4361095672886066,\n",
       " 0.0,\n",
       " 0.018544861201179843,\n",
       " 0.0,\n",
       " 0.018269896193771628,\n",
       " 0.07967474582994093]"
      ]
     },
     "execution_count": 304,
     "metadata": {},
     "output_type": "execute_result"
    }
   ],
   "source": [
    "js"
   ]
  },
  {
   "cell_type": "code",
   "execution_count": 20,
   "metadata": {},
   "outputs": [],
   "source": [
    "def jaccard_index(img1, img2):\n",
    "    \"\"\" Calculates the Jaccard index (IoU) measure for 2 detection bounding\n",
    "        boxes in a frame.\n",
    "        box1, box2: 2-tuples of the form (x, y), representing coordinates of\n",
    "            the top left corner of the box.\n",
    "        imshape: A 2-tuple (H, W), the shape of the image in which the boxes\n",
    "            are detected.\n",
    "    \"\"\"\n",
    "\n",
    "    plus = img1 + img2\n",
    "    i = np.where(plus==2,1, 0)\n",
    "    #print(i)\n",
    "    j = np.where(plus != 0, 1, 0)\n",
    "    #print(j)\n",
    "    intersection = i.sum()\n",
    "    \n",
    "    union = j.sum()\n",
    "    \n",
    "    return intersection / union\n"
   ]
  },
  {
   "cell_type": "code",
   "execution_count": 286,
   "metadata": {},
   "outputs": [
    {
     "data": {
      "image/png": "[encoded data removed]",
      "text/plain": [
       "<PIL.Image.Image image mode=L size=854x480 at 0x7FBE3D6C66D0>"
      ]
     },
     "execution_count": 286,
     "metadata": {},
     "output_type": "execute_result"
    }
   ],
   "source": [
    "Image.fromarray(abeararr)"
   ]
  },
  {
   "cell_type": "code",
   "execution_count": 274,
   "metadata": {},
   "outputs": [],
   "source": [
    "abeararr = np.asarray(abear)\n",
    "ab2 = np.where(abeararr!= 0, 1, 0)"
   ]
  },
  {
   "cell_type": "code",
   "execution_count": 144,
   "metadata": {},
   "outputs": [
    {
     "data": {
      "text/plain": [
       "0"
      ]
     },
     "execution_count": 144,
     "metadata": {},
     "output_type": "execute_result"
    }
   ],
   "source": [
    "ab = down_sample(abeararr,4)"
   ]
  },
  {
   "cell_type": "code",
   "execution_count": 146,
   "metadata": {},
   "outputs": [
    {
     "data": {
      "text/plain": [
       "0.0011143156790770843"
      ]
     },
     "execution_count": 146,
     "metadata": {},
     "output_type": "execute_result"
    }
   ],
   "source": [
    "jaccard_index(ab, labels)"
   ]
  },
  {
   "cell_type": "code",
   "execution_count": 155,
   "metadata": {},
   "outputs": [
    {
     "data": {
      "text/plain": [
       "0.006341463414634147"
      ]
     },
     "execution_count": 155,
     "metadata": {},
     "output_type": "execute_result"
    }
   ],
   "source": [
    "max(js)"
   ]
  },
  {
   "cell_type": "code",
   "execution_count": null,
   "metadata": {},
   "outputs": [],
   "source": []
  }
 ],
 "metadata": {
  "kernelspec": {
   "display_name": "Python 3",
   "language": "python",
   "name": "python3"
  },
  "language_info": {
   "codemirror_mode": {
    "name": "ipython",
    "version": 3
   },
   "file_extension": ".py",
   "mimetype": "text/x-python",
   "name": "python",
   "nbconvert_exporter": "python",
   "pygments_lexer": "ipython3",
   "version": "3.7.3"
  }
 },
 "nbformat": 4,
 "nbformat_minor": 2
}
